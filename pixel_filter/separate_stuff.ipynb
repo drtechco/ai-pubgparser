{
 "cells": [
  {
   "cell_type": "code",
   "execution_count": 1,
   "id": "b926b26b-7f67-454a-a840-c62b8c46afe0",
   "metadata": {},
   "outputs": [],
   "source": [
    "import os \n",
    "import cv2 \n",
    "import numpy as np \n",
    "import json"
   ]
  },
  {
   "cell_type": "code",
   "execution_count": 2,
   "id": "cc4f1314-6ecc-4090-b309-10347741da8e",
   "metadata": {},
   "outputs": [],
   "source": [
    "def get_file_by_extension(target_folder: str, extensions: tuple):\n",
    "    '''\n",
    "    Takes in a target folder and a tuple of extensions,\n",
    "    returns a list of path strings of files with the specified extensions,\n",
    "    including those in subfolders.\n",
    "    '''\n",
    "    _a = []\n",
    "    for root, _, files in os.walk(target_folder):\n",
    "        for file in files:\n",
    "            if file.endswith(extensions):\n",
    "                _a.append(os.path.join(root, file))\n",
    "    return _a"
   ]
  },
  {
   "cell_type": "code",
   "execution_count": 6,
   "id": "082950ca-7db3-4252-a786-091b7680d8d8",
   "metadata": {},
   "outputs": [],
   "source": [
    "dset_path = \"/home/hbdesk/labelstudio_convert/names4_pixel_cls\"\n",
    "all_jsons = get_file_by_extension(dset_path, (\".json\"))\n",
    "clear_path = \"/home/hbdesk/labelstudio_convert/pixel_filter_dataset/clear\"\n",
    "nc_path = \"/home/hbdesk/labelstudio_convert/pixel_filter_dataset/not_clear\"\n",
    "os.makedirs(clear_path, exist_ok=True)\n",
    "os.makedirs(nc_path, exist_ok=True)"
   ]
  },
  {
   "cell_type": "code",
   "execution_count": 9,
   "id": "62f88fb7-dc3d-4a21-bb88-914d6d61a206",
   "metadata": {},
   "outputs": [],
   "source": [
    "for _annotation in all_jsons:\n",
    "    with open(_annotation, \"r\") as loadjson:\n",
    "        data = json.loads(loadjson.read())\n",
    "    img_path = os.path.join(dset_path, data[\"imagePath\"])\n",
    "    if len(data[\"shapes\"]) == 0:\n",
    "        dst_path = os.path.join(nc_path, data[\"imagePath\"])\n",
    "        os.rename(img_path, dst_path)\n",
    "    else:\n",
    "        dst_path = os.path.join(clear_path, data[\"imagePath\"])\n",
    "        os.rename(img_path, dst_path)"
   ]
  }
 ],
 "metadata": {
  "kernelspec": {
   "display_name": "Python 3 (ipykernel)",
   "language": "python",
   "name": "python3"
  },
  "language_info": {
   "codemirror_mode": {
    "name": "ipython",
    "version": 3
   },
   "file_extension": ".py",
   "mimetype": "text/x-python",
   "name": "python",
   "nbconvert_exporter": "python",
   "pygments_lexer": "ipython3",
   "version": "3.12.4"
  }
 },
 "nbformat": 4,
 "nbformat_minor": 5
}
