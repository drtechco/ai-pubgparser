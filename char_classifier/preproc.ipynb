{
 "cells": [
  {
   "cell_type": "code",
   "execution_count": 1,
   "id": "48f6f085-600a-4951-837c-3adbd809a863",
   "metadata": {},
   "outputs": [],
   "source": [
    "import cv2 \n",
    "import os \n",
    "import json\n",
    "import uuid\n",
    "import numpy as np\n",
    "import math\n",
    "from matplotlib import pyplot as plt\n",
    "%matplotlib inline"
   ]
  },
  {
   "cell_type": "code",
   "execution_count": 2,
   "id": "5e5c5414-de23-42a9-9504-1705129d2f16",
   "metadata": {},
   "outputs": [],
   "source": [
    "def get_file_by_extension(target_folder: str, extensions: tuple):\n",
    "    '''\n",
    "    Takes in a target folder and a tuple of extensions,\n",
    "    returns a list of path strings of files with the specified extensions,\n",
    "    including those in subfolders.\n",
    "    '''\n",
    "    _a = []\n",
    "    for root, _, files in os.walk(target_folder):\n",
    "        for file in files:\n",
    "            if file.endswith(extensions):\n",
    "                _a.append(os.path.join(root, file))\n",
    "    return _a\n",
    "\n",
    "def pad_image(input_image: np.ndarray, pad_size: int = 160):\n",
    "    h, w ,c = input_image.shape\n",
    "    pad_width = max(0, pad_size - w)\n",
    "    pad_height = max(0, pad_size - h)\n",
    "    top = pad_height // 2\n",
    "    bottom = pad_height - top\n",
    "    left = pad_width // 2\n",
    "    right = pad_width - left\n",
    "    _pad = np.pad(input_image, ((top, bottom), (left, right), (0, 0)), mode='constant', constant_values=0)\n",
    "    return _pad"
   ]
  },
  {
   "cell_type": "code",
   "execution_count": 3,
   "id": "070ec706-9b47-4dbe-affb-e95790c081f5",
   "metadata": {},
   "outputs": [],
   "source": [
    "all_images = get_file_by_extension(\"/home/hbdesk/labelstudio_convert/char3_padded/\", (\".jpeg\", \".png\", \".jpg\"))"
   ]
  },
  {
   "cell_type": "code",
   "execution_count": 4,
   "id": "394e52b1-b3a2-43d2-943c-8a0d78aa4fa8",
   "metadata": {},
   "outputs": [],
   "source": [
    "for image in all_images:\n",
    "    fname , ext = os.path.splitext(image)\n",
    "    uuid_name = f\"{fname}_padded{ext}\"\n",
    "    img = cv2.imread(image)\n",
    "    _padded = pad_image(img, pad_size=32)\n",
    "    cv2.imwrite(uuid_name, _padded)"
   ]
  }
 ],
 "metadata": {
  "kernelspec": {
   "display_name": "Python 3 (ipykernel)",
   "language": "python",
   "name": "python3"
  },
  "language_info": {
   "codemirror_mode": {
    "name": "ipython",
    "version": 3
   },
   "file_extension": ".py",
   "mimetype": "text/x-python",
   "name": "python",
   "nbconvert_exporter": "python",
   "pygments_lexer": "ipython3",
   "version": "3.12.4"
  }
 },
 "nbformat": 4,
 "nbformat_minor": 5
}
