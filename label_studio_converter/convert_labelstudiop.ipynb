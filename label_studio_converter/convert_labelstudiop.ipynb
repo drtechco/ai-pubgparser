{
 "cells": [
  {
   "cell_type": "markdown",
   "id": "c1523caa-d409-45df-b896-598cd5f609b5",
   "metadata": {},
   "source": [
    "# convert label studio annotations from JSON to paddleOCR ready train and eval split"
   ]
  },
  {
   "cell_type": "code",
   "execution_count": 3,
   "id": "26995be2-0fa1-439d-8e27-e52f37914737",
   "metadata": {},
   "outputs": [],
   "source": [
    "import json \n",
    "import os \n",
    "import cv2\n",
    "from pprint import pprint\n",
    "import requests\n",
    "import numpy as np\n",
    "import random\n",
    "import math\n",
    "import albumentations as A"
   ]
  },
  {
   "cell_type": "code",
   "execution_count": 10,
   "id": "055661cf-53ec-4fca-ab8d-2e47a9e6507b",
   "metadata": {},
   "outputs": [],
   "source": [
    "LABEL_STUDIO_KEY=\"eaffb8f4719efb17f9b227ed56fee991c4d06a0a\"\n",
    "LABEL_STUDIO_URL=\"http://192.168.231.52:8080/\"\n",
    "\n",
    "def bgr2_3grey(image: np.ndarray):\n",
    "    gray_image = cv2.cvtColor(image, cv2.COLOR_BGR2GRAY)\n",
    "    gray_bgr = cv2.merge([gray_image, gray_image, gray_image])\n",
    "    return gray_bgr\n",
    "    \n",
    "def get_img_from_studio(image_path, save_path=\"./captioned_images\"):\n",
    "    if not os.path.exists(save_path):\n",
    "        os.makedirs(save_path)\n",
    "    download_url = f\"{LABEL_STUDIO_URL}{image_path}\"\n",
    "    headers = {\n",
    "        'Authorization': f'Token {LABEL_STUDIO_KEY}'\n",
    "    }\n",
    "    response = requests.get(download_url, headers=headers)\n",
    "    if response.status_code == 200:\n",
    "        filename = os.path.basename(image_path)\n",
    "        save_path = os.path.join(save_path, filename)\n",
    "        with open(save_path, 'wb') as f:\n",
    "            f.write(response.content)\n",
    "            return save_path\n",
    "        print(f\"Image successfully downloaded as {filename}\")\n",
    "    else:\n",
    "        print(f\"Failed to download image. Status code: {response.status_code}\")\n",
    "        return None\n",
    "\n",
    "def export_label_txt(label_dict_list: list, txt_type: str):\n",
    "    \"\"\"\n",
    "    takes a list of annotation pairs that looks like \n",
    "    `Image_path`\\t`Label`\\n\n",
    "    \"\"\"\n",
    "    if txt_type.lower() == \"train\":\n",
    "        with open(\"rec_gt_train.txt\", \"w\", encoding='utf-8') as train_txt:\n",
    "            for _a in label_dict_list:\n",
    "                for key, value in _a.items():\n",
    "                    train_txt.write(f\"{str(key)}\\t{str(value)}\\n\")\n",
    "    elif txt_type.lower() == \"eval\":\n",
    "        with open(\"rec_gt_eval.txt\", \"w\", encoding='utf-8') as eval_txt:\n",
    "            for _a in label_dict_list:\n",
    "                for key, value in _a.items():\n",
    "                    eval_txt.write(f\"{key}\\t{str(value)}\\n\")\n",
    "    else:\n",
    "        print(f\"invalid export type {txt_type}!\")\n",
    "\n",
    "def separate_train_eval(all_anno: list,train_sep: float = 0.8):\n",
    "    _all_anno = all_anno.copy() # copy so we dont fuck up the original shit homie\n",
    "    _train_num = math.floor(len(_all_anno) * train_sep) \n",
    "    train_set = []\n",
    "    _sel_count = _train_num\n",
    "    for _ in range(_train_num):\n",
    "        random_index = random.randint(0, (_sel_count - 1))\n",
    "        _sel_count -= 1\n",
    "        _sel  = _all_anno[random_index]\n",
    "        train_set.append(_sel)\n",
    "        # remove from the copied array and use remaining as eval, avoid copying twice\n",
    "        _all_anno.pop(_all_anno.index(_sel)) \n",
    "    return train_set, _all_anno \n",
    "\n",
    "def convert2gray(file_path: str):\n",
    "    for file in os.listdir(file_path):\n",
    "        img_path = os.path.join(file_path, file)\n",
    "        img = bgr2_3grey(cv2.imread(img_path))\n",
    "        cv2.imwrite(img_path, img)"
   ]
  },
  {
   "cell_type": "code",
   "execution_count": 5,
   "id": "16eea799-e370-4831-a69f-dceb984b9101",
   "metadata": {},
   "outputs": [
    {
     "name": "stdout",
     "output_type": "stream",
     "text": [
      "{'annotations': [{'completed_by': 1,\n",
      "                  'created_at': '2024-10-29T06:07:10.813896Z',\n",
      "                  'draft_created_at': None,\n",
      "                  'ground_truth': False,\n",
      "                  'id': 223,\n",
      "                  'import_id': None,\n",
      "                  'last_action': None,\n",
      "                  'last_created_by': None,\n",
      "                  'lead_time': 6.311,\n",
      "                  'parent_annotation': None,\n",
      "                  'parent_prediction': None,\n",
      "                  'prediction': {},\n",
      "                  'project': 3,\n",
      "                  'result': [{'from_name': 'caption',\n",
      "                              'id': 'oTiCVbmAnv',\n",
      "                              'origin': 'manual',\n",
      "                              'to_name': 'image',\n",
      "                              'type': 'textarea',\n",
      "                              'value': {'text': ['MoxOfWar']}}],\n",
      "                  'result_count': 0,\n",
      "                  'task': 637,\n",
      "                  'unique_id': '9ec7fd8b-1134-440e-8620-9365cf919200',\n",
      "                  'updated_at': '2024-10-29T06:07:10.813927Z',\n",
      "                  'updated_by': 1,\n",
      "                  'was_cancelled': False}],\n",
      " 'cancelled_annotations': 0,\n",
      " 'comment_authors': [],\n",
      " 'comment_count': 0,\n",
      " 'created_at': '2024-10-29T06:06:59.615413Z',\n",
      " 'data': {'captioning': '/data/upload/3/079df94c-0a03dc3fa43844aba91202bda30f1bc9.png'},\n",
      " 'drafts': [],\n",
      " 'file_upload': '079df94c-0a03dc3fa43844aba91202bda30f1bc9.png',\n",
      " 'id': 637,\n",
      " 'inner_id': 1,\n",
      " 'last_comment_updated_at': None,\n",
      " 'meta': {},\n",
      " 'predictions': [],\n",
      " 'project': 3,\n",
      " 'total_annotations': 1,\n",
      " 'total_predictions': 0,\n",
      " 'unresolved_comment_count': 0,\n",
      " 'updated_at': '2024-10-29T06:07:10.911442Z',\n",
      " 'updated_by': 1}\n"
     ]
    }
   ],
   "source": [
    "with open(\"./1075_batch.json\", \"r\") as loadjson:\n",
    "    data = json.loads(loadjson.read())\n",
    "pprint(data[0])"
   ]
  },
  {
   "cell_type": "code",
   "execution_count": 6,
   "id": "7dbc287b-4da6-4240-9df8-7a18d649f2a2",
   "metadata": {},
   "outputs": [],
   "source": [
    "final_pairs = []\n",
    "transform = A.Compose([\n",
    "    A.RandomBrightnessContrast(p=0.8),\n",
    "    A.ToGray(p=0.5)\n",
    "])\n",
    "for annotation in data:\n",
    "    try:\n",
    "        text_string = annotation[\"annotations\"][0][\"result\"][0][\"value\"][\"text\"][0]\n",
    "        file_name = annotation[\"data\"][\"captioning\"]\n",
    "        image_name = get_img_from_studio(file_name, \"/home/hbdesk/labelstudio_convert/captioned_images\")\n",
    "        if image_name is not None:\n",
    "            anno_pair = {image_name:text_string}\n",
    "            final_pairs.append(anno_pair)\n",
    "    except Exception as e:\n",
    "        continue"
   ]
  },
  {
   "cell_type": "code",
   "execution_count": 11,
   "id": "b6a720a6-c93e-45d3-94ce-6549726f4d0c",
   "metadata": {},
   "outputs": [],
   "source": [
    "convert2gray(\"/home/hbdesk/labelstudio_convert/captioned_images\")"
   ]
  },
  {
   "cell_type": "code",
   "execution_count": 19,
   "id": "b105448f-ee7f-4617-a2d8-76c2f121f0ff",
   "metadata": {},
   "outputs": [
    {
     "name": "stdout",
     "output_type": "stream",
     "text": [
      "4305\n"
     ]
    }
   ],
   "source": [
    "train_, eval_ = separate_train_eval(final_pairs)\n",
    "export_label_txt(train_, \"train\")\n",
    "export_label_txt(eval_, \"eval\")\n",
    "print(len(train_))"
   ]
  }
 ],
 "metadata": {
  "kernelspec": {
   "display_name": "Python 3 (ipykernel)",
   "language": "python",
   "name": "python3"
  },
  "language_info": {
   "codemirror_mode": {
    "name": "ipython",
    "version": 3
   },
   "file_extension": ".py",
   "mimetype": "text/x-python",
   "name": "python",
   "nbconvert_exporter": "python",
   "pygments_lexer": "ipython3",
   "version": "3.12.4"
  }
 },
 "nbformat": 4,
 "nbformat_minor": 5
}
