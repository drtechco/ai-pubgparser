{
 "cells": [
  {
   "cell_type": "code",
   "execution_count": 1,
   "id": "e4fa3947-dd22-430f-9eb9-7cdca47eaf16",
   "metadata": {},
   "outputs": [
    {
     "name": "stderr",
     "output_type": "stream",
     "text": [
      "/home/hbdesk/labelstudio_convert/venv/lib/python3.12/site-packages/albumentations/__init__.py:24: UserWarning: A new version of Albumentations is available: 1.4.21 (you have 1.4.20). Upgrade using: pip install -U albumentations. To disable automatic update checks, set the environment variable NO_ALBUMENTATIONS_UPDATE to 1.\n",
      "  check_for_updates()\n"
     ]
    }
   ],
   "source": [
    "import json \n",
    "import os \n",
    "import cv2\n",
    "from pprint import pprint\n",
    "import requests\n",
    "import numpy as np\n",
    "import random\n",
    "import math\n",
    "import albumentations as A\n",
    "from tqdm import tqdm\n",
    "import uuid\n",
    "import requests\n",
    "from matplotlib import pyplot as plt\n",
    "%matplotlib inline"
   ]
  },
  {
   "cell_type": "code",
   "execution_count": 2,
   "id": "097ed67f-ffbb-41e8-a58d-8057a28dcab2",
   "metadata": {},
   "outputs": [],
   "source": [
    "LABEL_STUDIO_KEY=\"eaffb8f4719efb17f9b227ed56fee991c4d06a0a\"\n",
    "LABEL_STUDIO_URL=\"http://192.168.231.52:8080/\"\n",
    "OCR_SERVER=\"http://localhost:3000/en\"\n",
    "\n",
    "\n",
    "def string_from_img(image_path: str):\n",
    "    with open(image_path, \"rb\") as image_file:\n",
    "        files = { \"file\": (image_path, image_file, \"image/jpeg\") }\n",
    "        response = requests.post(OCR_SERVER, files=files)\n",
    "        if response.status_code==200:\n",
    "            res_string = response.json()[\"string\"]\n",
    "            return res_string\n",
    "        else:\n",
    "            return None\n",
    "\n",
    "def xywh2xyxy(xywh, original_width, original_height):\n",
    "    \"\"\"\n",
    "    Convert [x, y, w, h] in percentage format to xyxy absolute coordinates.\n",
    "\n",
    "    Parameters:\n",
    "    xywh (list): List of [x, y, w, h] as percentages, where x and y represent the top-left corner.\n",
    "    original_width (int): Original width of the image.\n",
    "    original_height (int): Original height of the image.\n",
    "\n",
    "    Returns:\n",
    "    tuple: (x_min, y_min, x_max, y_max) in absolute coordinates.\n",
    "    \"\"\"\n",
    "    x_percent, y_percent, width_percent, height_percent = xywh\n",
    "\n",
    "    x_min = (x_percent / 100) * original_width\n",
    "    y_min = (y_percent / 100) * original_height\n",
    "    x_max = x_min + (width_percent / 100) * original_width\n",
    "    y_max = y_min + (height_percent / 100) * original_height\n",
    "\n",
    "    return x_min, y_min, x_max, y_max\n",
    "\n",
    "def get_img_from_studio(image_path, save_path=\"./weapon_img\"):\n",
    "    if not os.path.exists(save_path):\n",
    "        os.makedirs(save_path)\n",
    "    download_url = f\"{LABEL_STUDIO_URL}{image_path}\"\n",
    "    headers = {\n",
    "        'Authorization': f'Token {LABEL_STUDIO_KEY}'\n",
    "    }\n",
    "    response = requests.get(download_url, headers=headers)\n",
    "    if response.status_code == 200:\n",
    "        filename = os.path.basename(image_path)\n",
    "        save_path = os.path.join(save_path, filename)\n",
    "        with open(save_path, 'wb') as f:\n",
    "            f.write(response.content)\n",
    "            return save_path\n",
    "        print(f\"Image successfully downloaded as {filename}\")\n",
    "    else:\n",
    "        print(f\"Failed to download image. Status code: {response.status_code}\")\n",
    "        return None"
   ]
  },
  {
   "cell_type": "code",
   "execution_count": 2,
   "id": "f394dbd5-be30-454b-ba76-1e8770d4e899",
   "metadata": {},
   "outputs": [
    {
     "ename": "NameError",
     "evalue": "name 'json' is not defined",
     "output_type": "error",
     "traceback": [
      "\u001b[0;31m---------------------------------------------------------------------------\u001b[0m",
      "\u001b[0;31mNameError\u001b[0m                                 Traceback (most recent call last)",
      "Cell \u001b[0;32mIn[2], line 2\u001b[0m\n\u001b[1;32m      1\u001b[0m \u001b[38;5;28;01mwith\u001b[39;00m \u001b[38;5;28mopen\u001b[39m(\u001b[38;5;124m\"\u001b[39m\u001b[38;5;124m./char_dset.json\u001b[39m\u001b[38;5;124m\"\u001b[39m, \u001b[38;5;124m\"\u001b[39m\u001b[38;5;124mr\u001b[39m\u001b[38;5;124m\"\u001b[39m) \u001b[38;5;28;01mas\u001b[39;00m loadjson:\n\u001b[0;32m----> 2\u001b[0m     data \u001b[38;5;241m=\u001b[39m \u001b[43mjson\u001b[49m\u001b[38;5;241m.\u001b[39mloads(loadjson\u001b[38;5;241m.\u001b[39mread())\n\u001b[1;32m      3\u001b[0m pprint(data[\u001b[38;5;241m0\u001b[39m])\n",
      "\u001b[0;31mNameError\u001b[0m: name 'json' is not defined"
     ]
    }
   ],
   "source": [
    "with open(\"./char_dset.json\", \"r\") as loadjson:\n",
    "    data = json.loads(loadjson.read())\n",
    "pprint(data[0])"
   ]
  },
  {
   "cell_type": "code",
   "execution_count": null,
   "id": "84c570f9-4ce4-4a10-9510-6a22d7557ccf",
   "metadata": {},
   "outputs": [],
   "source": [
    "final_bboxes = []\n",
    "for annotation in tqdm(data):\n",
    "    # print(len(annotation[\"annotations\"][0][\"result\"]))\n",
    "    char_bboxes = []\n",
    "    if len(annotation[\"annotations\"][0][\"result\"]) > 0:\n",
    "        db_fname = annotation[\"data\"][\"image\"]\n",
    "        width = annotation[\"annotations\"][0][\"result\"][0][\"original_width\"]\n",
    "        height = annotation[\"annotations\"][0][\"result\"][0][\"original_height\"]\n",
    "        image_name = get_img_from_studio(db_fname, \"/home/hbdesk/labelstudio_convert/char_download/\")\n",
    "        for _bbox in annotation[\"annotations\"][0][\"result\"]:\n",
    "            xywh = [_bbox[\"value\"][\"x\"], _bbox[\"value\"][\"y\"], _bbox[\"value\"][\"width\"], _bbox[\"value\"][\"height\"]]\n",
    "            x1 , y1 , x2, y2  = xywh2xyxy(xywh, width, height)\n",
    "            char_bboxes.append([x1,y1,x2,y2])\n",
    "    bbox_image_pair = {image_name: char_bboxes}\n",
    "    final_bboxes.append(bbox_image_pair)\n",
    "print(final_bboxes[0])"
   ]
  },
  {
   "cell_type": "code",
   "execution_count": null,
   "id": "31a6bcce-b8bb-49fb-82c5-8c7849145dd5",
   "metadata": {},
   "outputs": [],
   "source": [
    "stacked = []\n",
    "strings = []\n",
    "for bboxes in final_bboxes:\n",
    "    string_img = string_from_img(list(bboxes.keys())[0])\n",
    "    string_img = string_img.replace(\" \", \"\")\n",
    "    strings.append(string_img)\n",
    "    img = cv2.imread(list(bboxes.keys())[0])\n",
    "    stack1 = []\n",
    "    for bbox in bboxes:\n",
    "        boxes = bboxes[bbox]\n",
    "        for box in boxes:\n",
    "            x1,y1,x2,y2 = [int(x) for x in box]\n",
    "            crop = img[y1:y2, x1:x2]\n",
    "            h, w ,c = crop.shape\n",
    "            pad_width = max(0, 24 - w)\n",
    "            pad_height = max(0, 24 - h)\n",
    "            top = pad_height // 2\n",
    "            bottom = pad_height - top\n",
    "            left = pad_width // 2\n",
    "            right = pad_width - left\n",
    "            _pad = np.pad(crop, ((top, bottom), (left, right), (0, 0)), mode='constant', constant_values=0)\n",
    "            # _resize = cv2.cvtColor(cv2.resize(crop, (112, 112)), cv2.COLOR_BGR2GRAY)\n",
    "            _pad = cv2.cvtColor(_pad, cv2.COLOR_BGR2GRAY)\n",
    "            stack1.append(_pad)\n",
    "            cv2.imwrite(f\"chars/{uuid.uuid4().hex}.png\", _pad)\n",
    "    stacked.append(stack1)"
   ]
  },
  {
   "cell_type": "code",
   "execution_count": null,
   "id": "d0b80cf3-0532-4c4b-b49e-e298e0378741",
   "metadata": {},
   "outputs": [],
   "source": [
    "_set_string = set(strings)\n",
    "chars = sorted(set(\"\".join(_set_string)))\n",
    "dest = \"/home/hbdesk/labelstudio_convert/chars\"\n",
    "for char in chars:\n",
    "    _dst = os.path.join(dest, char)\n",
    "    if not os.path.exists(_dst):\n",
    "        os.makedirs(_dst)"
   ]
  },
  {
   "cell_type": "code",
   "execution_count": null,
   "id": "7e643cec-94ba-46a3-b668-7bb8377543fb",
   "metadata": {
    "scrolled": true
   },
   "outputs": [],
   "source": [
    "INDEX = 200\n",
    "print(\" \".join(strings[INDEX]))\n",
    "pprint(data[200])\n",
    "plt.imshow(np.hstack(stacked[INDEX]))\n",
    "plt.show()"
   ]
  },
  {
   "cell_type": "code",
   "execution_count": null,
   "id": "599dc192-9f20-44fc-b86b-8c09ad92877e",
   "metadata": {},
   "outputs": [],
   "source": [
    "for _stridx, _string in enumerate(strings):\n",
    "    img_list = stacked[_stridx]\n",
    "    for _charidx, _char in enumerate(_string):\n",
    "        dest_save_path = os.path.join(dest, _char)\n",
    "        save_fname = f\"{dest_save_path}/{uuid.uuid4().hex}.png\"\n",
    "        try:\n",
    "            cv2.imwrite(save_fname, img_list[_charidx])\n",
    "        except:\n",
    "            pass"
   ]
  }
 ],
 "metadata": {
  "kernelspec": {
   "display_name": "Python 3 (ipykernel)",
   "language": "python",
   "name": "python3"
  },
  "language_info": {
   "codemirror_mode": {
    "name": "ipython",
    "version": 3
   },
   "file_extension": ".py",
   "mimetype": "text/x-python",
   "name": "python",
   "nbconvert_exporter": "python",
   "pygments_lexer": "ipython3",
   "version": "3.12.4"
  }
 },
 "nbformat": 4,
 "nbformat_minor": 5
}
