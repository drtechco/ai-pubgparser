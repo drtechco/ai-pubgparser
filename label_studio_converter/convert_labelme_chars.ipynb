{
 "cells": [
  {
   "cell_type": "code",
   "execution_count": 1,
   "id": "e9e1cf60-5b5b-4b38-a4f1-fc8b69bf4f7b",
   "metadata": {},
   "outputs": [
    {
     "name": "stderr",
     "output_type": "stream",
     "text": [
      "/home/hbdesk/labelstudio_convert/venv/lib/python3.12/site-packages/albumentations/__init__.py:24: UserWarning: A new version of Albumentations is available: 1.4.21 (you have 1.4.20). Upgrade using: pip install -U albumentations. To disable automatic update checks, set the environment variable NO_ALBUMENTATIONS_UPDATE to 1.\n",
      "  check_for_updates()\n"
     ]
    }
   ],
   "source": [
    "import json \n",
    "import os \n",
    "import cv2\n",
    "from pprint import pprint\n",
    "import requests\n",
    "import numpy as np\n",
    "import random\n",
    "import math\n",
    "import albumentations as A\n",
    "from tqdm import tqdm\n",
    "import uuid\n",
    "import requests\n",
    "from matplotlib import pyplot as plt\n",
    "%matplotlib inline"
   ]
  },
  {
   "cell_type": "code",
   "execution_count": 2,
   "id": "156b97d6-5c96-4297-8e2d-e5cf4c06878f",
   "metadata": {},
   "outputs": [],
   "source": [
    "OCR_SERVER=\"http://localhost:3000/en\"\n",
    "\n",
    "\n",
    "def string_from_img(image_path: str):\n",
    "    with open(image_path, \"rb\") as image_file:\n",
    "        files = { \"file\": (image_path, image_file, \"image/jpeg\") }\n",
    "        response = requests.post(OCR_SERVER, files=files)\n",
    "        if response.status_code==200:\n",
    "            res_string = response.json()[\"string\"]\n",
    "            return res_string\n",
    "        else:\n",
    "            return None\n",
    "\n",
    "def get_file_by_extension(target_folder: str, extensions: tuple):\n",
    "    '''\n",
    "    Takes in a target folder and a tuple of extensions,\n",
    "    returns a list of path strings of files with the specified extensions,\n",
    "    including those in subfolders.\n",
    "    '''\n",
    "    _a = []\n",
    "    for root, _, files in os.walk(target_folder):\n",
    "        for file in files:\n",
    "            if file.endswith(extensions):\n",
    "                _a.append(os.path.join(root, file))\n",
    "    return _a"
   ]
  },
  {
   "cell_type": "code",
   "execution_count": 3,
   "id": "a03ace92-e78e-4128-b62f-29dbd7d0ade7",
   "metadata": {},
   "outputs": [],
   "source": [
    "all_jsons = get_file_by_extension(\"/home/hbdesk/labelstudio_convert/bbox_tall\", \".json\")"
   ]
  },
  {
   "cell_type": "code",
   "execution_count": 4,
   "id": "b00a49ab-3bb1-447d-87d6-d26148f184e3",
   "metadata": {},
   "outputs": [],
   "source": [
    "load_data = []\n",
    "for anno in all_jsons:\n",
    "    with open(anno, \"r\") as loadjson:\n",
    "        data = json.loads(loadjson.read())\n",
    "        load_data.append(data)"
   ]
  },
  {
   "cell_type": "code",
   "execution_count": 22,
   "id": "edc7a29e-b03d-477f-88af-09bc5d22db0b",
   "metadata": {},
   "outputs": [
    {
     "name": "stderr",
     "output_type": "stream",
     "text": [
      "100%|███████████████████████████████████████████████████████████████████████████████████████████████████████████████████████████████████████████████████████████████████████████████████████████████████████████████████████████████████████████████████| 990/990 [02:22<00:00,  6.96it/s]\n"
     ]
    }
   ],
   "source": [
    "strings = []\n",
    "stacked = []\n",
    "for shit in tqdm(load_data):\n",
    "    image = cv2.imread(shit[\"imagePath\"])\n",
    "    string_img = string_from_img(shit[\"imagePath\"])\n",
    "    string_img = string_img.replace(\" \", \"\")\n",
    "    strings.append(string_img)\n",
    "    stack1 = []\n",
    "    for annotation in shit[\"shapes\"]:\n",
    "        x1,y1 = [int(x) for x in annotation[\"points\"][0]]\n",
    "        x2,y2 = [int(x) for x in annotation[\"points\"][1]]\n",
    "        crop = image[y1:y2, x1:x2]\n",
    "        h, w, c = crop.shape\n",
    "        pad_width = max(0, 24 - w)\n",
    "        pad_height = max(0, 24 - h)\n",
    "        top = pad_height // 2\n",
    "        bottom = pad_height - top\n",
    "        left = pad_width // 2\n",
    "        right = pad_width - left\n",
    "        _pad = np.pad(crop, ((top, bottom), (left, right), (0, 0)), mode='constant', constant_values=0)\n",
    "        _pad = cv2.cvtColor(_pad, cv2.COLOR_BGR2GRAY)\n",
    "        stack1.append(_pad)\n",
    "        # cv2.imwrite(f\"chars2/{uuid.uuid4().hex}.png\", _pad)      \n",
    "    stacked.append(stack1)\n",
    "        "
   ]
  },
  {
   "cell_type": "code",
   "execution_count": 23,
   "id": "c6c55d38-f223-4118-9b83-c1603cc1490c",
   "metadata": {},
   "outputs": [
    {
     "name": "stdout",
     "output_type": "stream",
     "text": [
      "R o f l a n _ n o n a m e\n"
     ]
    },
    {
     "data": {
      "image/png": "[encoded data removed]",
      "text/plain": [
       "<Figure size 640x480 with 1 Axes>"
      ]
     },
     "metadata": {},
     "output_type": "display_data"
    }
   ],
   "source": [
    "INDEX = 4\n",
    "print(\" \".join(strings[INDEX]))\n",
    "plt.imshow(np.hstack(stacked[INDEX]))\n",
    "plt.show()"
   ]
  },
  {
   "cell_type": "code",
   "execution_count": 24,
   "id": "c63bb244-4e09-49f3-8fc8-f142ff80463d",
   "metadata": {},
   "outputs": [],
   "source": [
    "_set_string = set(strings)\n",
    "chars = sorted(set(\"\".join(_set_string)))\n",
    "dest = \"/home/hbdesk/labelstudio_convert/chars2\"\n",
    "for char in chars:\n",
    "    _dst = os.path.join(dest, char)\n",
    "    if not os.path.exists(_dst):\n",
    "        os.makedirs(_dst)"
   ]
  },
  {
   "cell_type": "code",
   "execution_count": 25,
   "id": "75c2905f-09a4-4409-bbb1-061e81ad20d1",
   "metadata": {},
   "outputs": [],
   "source": [
    "dest = \"/home/hbdesk/labelstudio_convert/chars2\"\n",
    "for _stridx, _string in enumerate(strings):\n",
    "    img_list = stacked[_stridx]\n",
    "    for _charidx, _char in enumerate(_string):\n",
    "        dest_save_path = os.path.join(dest, _char)\n",
    "        save_fname = f\"{dest_save_path}/{uuid.uuid4().hex}.png\"\n",
    "        try:\n",
    "            cv2.imwrite(save_fname, img_list[_charidx])\n",
    "        except:\n",
    "            pass"
   ]
  }
 ],
 "metadata": {
  "kernelspec": {
   "display_name": "Python 3 (ipykernel)",
   "language": "python",
   "name": "python3"
  },
  "language_info": {
   "codemirror_mode": {
    "name": "ipython",
    "version": 3
   },
   "file_extension": ".py",
   "mimetype": "text/x-python",
   "name": "python",
   "nbconvert_exporter": "python",
   "pygments_lexer": "ipython3",
   "version": "3.12.4"
  }
 },
 "nbformat": 4,
 "nbformat_minor": 5
}
