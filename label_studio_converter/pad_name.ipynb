{
 "cells": [
  {
   "cell_type": "code",
   "execution_count": 1,
   "id": "d5f543f7-6c89-4977-bf0c-059928c27a76",
   "metadata": {},
   "outputs": [],
   "source": [
    "import numpy as np\n",
    "import cv2\n",
    "import os\n",
    "from matplotlib import pyplot as plt\n",
    "%matplotlib inline"
   ]
  },
  {
   "cell_type": "code",
   "execution_count": 2,
   "id": "8e653701-d47f-46b7-a38e-738da4dfa992",
   "metadata": {},
   "outputs": [],
   "source": [
    "def pad_image(input_image: np.ndarray, pad_size: int = 160):\n",
    "    h, w ,c = input_image.shape\n",
    "    pad_width = max(0, pad_size - w)\n",
    "    pad_height = max(0, pad_size - h)\n",
    "    top = pad_height // 2\n",
    "    bottom = pad_height - top\n",
    "    left = pad_width // 2\n",
    "    right = pad_width - left\n",
    "    _pad = np.pad(input_image, ((top, bottom), (left, right), (0, 0)), mode='constant', constant_values=0)\n",
    "    return _pad\n",
    "def bgr2_3grey(image: np.ndarray):\n",
    "    gray_image = cv2.cvtColor(image, cv2.COLOR_BGR2GRAY)\n",
    "    gray_bgr = cv2.merge([gray_image, gray_image, gray_image])\n",
    "    return gray_bgr"
   ]
  },
  {
   "cell_type": "code",
   "execution_count": 6,
   "id": "aafa71e8-c4bb-411e-9b1b-b4255d34b246",
   "metadata": {},
   "outputs": [
    {
     "name": "stdout",
     "output_type": "stream",
     "text": [
      "0\n"
     ]
    }
   ],
   "source": [
    "all_images = [x for x in os.listdir(\"/home/hbdesk/labelstudio_convert/char3_original/\") if x.endswith((\".jpeg\", \".png\", \".jpg\"))]\n",
    "print(len(all_images))"
   ]
  },
  {
   "cell_type": "code",
   "execution_count": 5,
   "id": "d3fa1ae8-ee64-49a3-b46c-2499e288db2f",
   "metadata": {},
   "outputs": [],
   "source": [
    "for img in all_images:\n",
    "    imgpath = os.path.join(\"/home/hbdesk/labelstudio_convert/char3_original\", img)\n",
    "    _load = cv2.imread(imgpath)\n",
    "    export = os.path.join(\"/home/hbdesk/labelstudio_convert/char3_padded\", img)\n",
    "    cv2.imwrite(export, bgr2_3grey(_load))"
   ]
  }
 ],
 "metadata": {
  "kernelspec": {
   "display_name": "Python 3 (ipykernel)",
   "language": "python",
   "name": "python3"
  },
  "language_info": {
   "codemirror_mode": {
    "name": "ipython",
    "version": 3
   },
   "file_extension": ".py",
   "mimetype": "text/x-python",
   "name": "python",
   "nbconvert_exporter": "python",
   "pygments_lexer": "ipython3",
   "version": "3.12.4"
  }
 },
 "nbformat": 4,
 "nbformat_minor": 5
}
