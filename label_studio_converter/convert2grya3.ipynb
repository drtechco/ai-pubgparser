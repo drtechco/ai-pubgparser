{
 "cells": [
  {
   "cell_type": "code",
   "execution_count": 1,
   "id": "474e2eeb-91e8-4db8-82b0-f42a619ce323",
   "metadata": {},
   "outputs": [],
   "source": [
    "import cv2 \n",
    "import os \n",
    "import numpy as np\n",
    "from matplotlib import pyplot as plt\n",
    "%matplotlib inline"
   ]
  },
  {
   "cell_type": "code",
   "execution_count": 2,
   "id": "5cd50144-1565-48d9-91d7-4fed4c22ced9",
   "metadata": {},
   "outputs": [],
   "source": [
    "def bgr2_3grey(image: np.ndarray):\n",
    "    gray_image = cv2.cvtColor(image, cv2.COLOR_BGR2GRAY)\n",
    "    gray_bgr = cv2.merge([gray_image, gray_image, gray_image])\n",
    "    return gray_bgr\n",
    "\n"
   ]
  },
  {
   "cell_type": "code",
   "execution_count": 3,
   "id": "824f9418-e6b2-4486-b1a5-007817578c22",
   "metadata": {},
   "outputs": [
    {
     "name": "stdout",
     "output_type": "stream",
     "text": [
      "3929\n"
     ]
    }
   ],
   "source": [
    "all_images = [x for x in os.listdir(\"/media/hbdesk/UNTITLED/test_sets/names4\") if x.endswith((\".jpeg\", \".png\", \".jpg\"))]\n",
    "print(len(all_images))\n",
    "for img in all_images:\n",
    "    imgpath = os.path.join(\"/media/hbdesk/UNTITLED/test_sets/names3\", img)\n",
    "    _load = cv2.imread(imgpath)\n",
    "    cv2.imwrite(imgpath, bgr2_3grey(_load))"
   ]
  },
  {
   "cell_type": "code",
   "execution_count": 4,
   "id": "fde7ed6d-1cbb-47db-b1ab-c0e181d12058",
   "metadata": {},
   "outputs": [],
   "source": []
  }
 ],
 "metadata": {
  "kernelspec": {
   "display_name": "Python 3 (ipykernel)",
   "language": "python",
   "name": "python3"
  },
  "language_info": {
   "codemirror_mode": {
    "name": "ipython",
    "version": 3
   },
   "file_extension": ".py",
   "mimetype": "text/x-python",
   "name": "python",
   "nbconvert_exporter": "python",
   "pygments_lexer": "ipython3",
   "version": "3.12.4"
  }
 },
 "nbformat": 4,
 "nbformat_minor": 5
}
