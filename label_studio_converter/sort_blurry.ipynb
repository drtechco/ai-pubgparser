{
 "cells": [
  {
   "cell_type": "code",
   "execution_count": 24,
   "id": "39cf8119-a270-46b9-abbf-26c990d1f40f",
   "metadata": {},
   "outputs": [],
   "source": [
    "import cv2 \n",
    "import json \n",
    "import os \n",
    "import numpy as np\n",
    "import shutil"
   ]
  },
  {
   "cell_type": "code",
   "execution_count": 26,
   "id": "b3103e28-1d75-43de-bcf1-44cf103f9df3",
   "metadata": {},
   "outputs": [],
   "source": [
    "dir_ = \"/home/hbdesk/labelstudio_convert/names_labelled_batch3\"\n",
    "blur_dest = \"/home/hbdesk/labelstudio_convert/blurry_cls/notgood\"\n",
    "good_dest = \"/home/hbdesk/labelstudio_convert/blurry_cls/good\"\n",
    "all_json = []\n",
    "for file in os.listdir(dir_):\n",
    "    if file.endswith(\".json\"):\n",
    "        all_json.append(file)"
   ]
  },
  {
   "cell_type": "code",
   "execution_count": 27,
   "id": "afd2207a-b131-41bb-9f88-20adaaa9f0f8",
   "metadata": {},
   "outputs": [],
   "source": [
    "for _file in all_json:\n",
    "    fp = os.path.join(dir_, _file)\n",
    "    with open(fp, \"rb\") as jsonfile:\n",
    "        data = json.loads(jsonfile.read())\n",
    "    if len(data[\"shapes\"]) < 1:\n",
    "        imgp = os.path.join(dir_, data[\"imagePath\"])\n",
    "        dest  = os.path.join(blur_dest, data[\"imagePath\"])\n",
    "        shutil.copy2(imgp, dest)\n",
    "    else:\n",
    "        imgp = os.path.join(dir_, data[\"imagePath\"])\n",
    "        dest  = os.path.join(blur_dest, data[\"imagePath\"])\n",
    "        shutil.copy2(imgp, good_dest)"
   ]
  }
 ],
 "metadata": {
  "kernelspec": {
   "display_name": "Python 3 (ipykernel)",
   "language": "python",
   "name": "python3"
  },
  "language_info": {
   "codemirror_mode": {
    "name": "ipython",
    "version": 3
   },
   "file_extension": ".py",
   "mimetype": "text/x-python",
   "name": "python",
   "nbconvert_exporter": "python",
   "pygments_lexer": "ipython3",
   "version": "3.12.4"
  }
 },
 "nbformat": 4,
 "nbformat_minor": 5
}
