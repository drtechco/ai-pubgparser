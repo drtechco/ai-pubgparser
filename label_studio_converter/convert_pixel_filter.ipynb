{
 "cells": [
  {
   "cell_type": "code",
   "execution_count": 1,
   "id": "c9b1b40d-4ab3-4cbe-8ace-d2963a513f4c",
   "metadata": {
    "scrolled": true
   },
   "outputs": [
    {
     "name": "stderr",
     "output_type": "stream",
     "text": [
      "/home/hbdesk/labelstudio_convert/venv/lib/python3.12/site-packages/albumentations/__init__.py:24: UserWarning: A new version of Albumentations is available: 1.4.21 (you have 1.4.20). Upgrade using: pip install -U albumentations. To disable automatic update checks, set the environment variable NO_ALBUMENTATIONS_UPDATE to 1.\n",
      "  check_for_updates()\n"
     ]
    }
   ],
   "source": [
    "import json \n",
    "import os \n",
    "import cv2\n",
    "from pprint import pprint\n",
    "import requests\n",
    "import numpy as np\n",
    "import random\n",
    "import math\n",
    "import albumentations as A"
   ]
  },
  {
   "cell_type": "code",
   "execution_count": 8,
   "id": "bb106a5e-9119-41ad-9f0f-e8390bf7dd85",
   "metadata": {},
   "outputs": [],
   "source": [
    "LABEL_STUDIO_KEY=\"eaffb8f4719efb17f9b227ed56fee991c4d06a0a\"\n",
    "LABEL_STUDIO_URL=\"http://192.168.231.52:8080/\"\n",
    "\n",
    "def get_img_from_studio(image_path, save_path=\"./weapon_img\"):\n",
    "    if not os.path.exists(save_path):\n",
    "        os.makedirs(save_path)\n",
    "    download_url = f\"{LABEL_STUDIO_URL}{image_path}\"\n",
    "    headers = {\n",
    "        'Authorization': f'Token {LABEL_STUDIO_KEY}'\n",
    "    }\n",
    "    response = requests.get(download_url, headers=headers)\n",
    "    if response.status_code == 200:\n",
    "        filename = os.path.basename(image_path)\n",
    "        save_path = os.path.join(save_path, filename)\n",
    "        with open(save_path, 'wb') as f:\n",
    "            f.write(response.content)\n",
    "            return save_path\n",
    "        print(f\"Image successfully downloaded as {filename}\")\n",
    "    else:\n",
    "        print(f\"Failed to download image. Status code: {response.status_code}\")\n",
    "        return None"
   ]
  },
  {
   "cell_type": "code",
   "execution_count": 9,
   "id": "c52bf511-0445-4fd0-abc5-d953e1797521",
   "metadata": {},
   "outputs": [
    {
     "name": "stdout",
     "output_type": "stream",
     "text": [
      "{'annotations': [{'completed_by': 1,\n",
      "                  'created_at': '2024-11-11T02:09:16.788083Z',\n",
      "                  'draft_created_at': None,\n",
      "                  'ground_truth': False,\n",
      "                  'id': 10477,\n",
      "                  'import_id': None,\n",
      "                  'last_action': None,\n",
      "                  'last_created_by': None,\n",
      "                  'lead_time': 3.508,\n",
      "                  'parent_annotation': None,\n",
      "                  'parent_prediction': None,\n",
      "                  'prediction': {},\n",
      "                  'project': 15,\n",
      "                  'result': [{'from_name': 'choice',\n",
      "                              'id': '6xXk9lXRie',\n",
      "                              'origin': 'manual',\n",
      "                              'to_name': 'image',\n",
      "                              'type': 'choices',\n",
      "                              'value': {'choices': ['clear']}}],\n",
      "                  'result_count': 0,\n",
      "                  'task': 13552,\n",
      "                  'unique_id': 'b90cd963-53fd-4590-bcee-769092d92b11',\n",
      "                  'updated_at': '2024-11-11T02:09:16.788131Z',\n",
      "                  'updated_by': 1,\n",
      "                  'was_cancelled': False}],\n",
      " 'cancelled_annotations': 0,\n",
      " 'comment_authors': [],\n",
      " 'comment_count': 0,\n",
      " 'created_at': '2024-11-11T02:09:10.612447Z',\n",
      " 'data': {'image': '/data/upload/15/cca4c8dc-00150e0f017249969092a80f34339a28.png'},\n",
      " 'drafts': [],\n",
      " 'file_upload': 'cca4c8dc-00150e0f017249969092a80f34339a28.png',\n",
      " 'id': 13552,\n",
      " 'inner_id': 1,\n",
      " 'last_comment_updated_at': None,\n",
      " 'meta': {},\n",
      " 'predictions': [],\n",
      " 'project': 15,\n",
      " 'total_annotations': 1,\n",
      " 'total_predictions': 0,\n",
      " 'unresolved_comment_count': 0,\n",
      " 'updated_at': '2024-11-11T02:09:16.881448Z',\n",
      " 'updated_by': 1}\n"
     ]
    }
   ],
   "source": [
    "with open(\"./pixel_filter.json\", \"r\") as loadjson:\n",
    "    data = json.loads(loadjson.read())\n",
    "pprint(data[0])"
   ]
  },
  {
   "cell_type": "code",
   "execution_count": 10,
   "id": "aa96f99a-219e-47d0-8c3d-312929bbf0c1",
   "metadata": {},
   "outputs": [
    {
     "name": "stdout",
     "output_type": "stream",
     "text": [
      "['clear', 'not_clear'] 2\n"
     ]
    },
    {
     "data": {
      "text/plain": [
       "[None, None]"
      ]
     },
     "execution_count": 10,
     "metadata": {},
     "output_type": "execute_result"
    }
   ],
   "source": [
    "all_classes = []\n",
    "for annotation in data:\n",
    "    try:\n",
    "        text_string = annotation[\"annotations\"][0][\"result\"][0][\"value\"][\"choices\"][0]\n",
    "        all_classes.append(text_string)\n",
    "        file_name = annotation[\"data\"][\"image\"]\n",
    "        image_name = get_img_from_studio(file_name, f\"/home/hbdesk/labelstudio_convert/pixel_filter/{text_string}\")\n",
    "        # if image_name is not None:\n",
    "        #     anno_pair = {image_name:text_string}\n",
    "        #     final_pairs.append(anno_pair)\n",
    "    except Exception as e:\n",
    "        continue\n",
    "print(list(sorted(set(all_classes))), len(set(all_classes)))\n",
    "[os.makedirs(os.path.join(\"./weapon_img\", x)) for x in all_classes if not os.path.exists(os.path.join(\"./weapon_img\", x))]"
   ]
  }
 ],
 "metadata": {
  "kernelspec": {
   "display_name": "Python 3 (ipykernel)",
   "language": "python",
   "name": "python3"
  },
  "language_info": {
   "codemirror_mode": {
    "name": "ipython",
    "version": 3
   },
   "file_extension": ".py",
   "mimetype": "text/x-python",
   "name": "python",
   "nbconvert_exporter": "python",
   "pygments_lexer": "ipython3",
   "version": "3.12.4"
  }
 },
 "nbformat": 4,
 "nbformat_minor": 5
}
