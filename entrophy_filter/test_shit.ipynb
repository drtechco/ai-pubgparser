{
 "cells": [
  {
   "cell_type": "code",
   "execution_count": null,
   "id": "32e9acdf-3e30-436c-aa29-e037d8729266",
   "metadata": {},
   "outputs": [],
   "source": []
  }
 ],
 "metadata": {
  "kernelspec": {
   "display_name": "",
   "name": ""
  },
  "language_info": {
   "name": ""
  }
 },
 "nbformat": 4,
 "nbformat_minor": 5
}
