{
 "cells": [
  {
   "cell_type": "code",
   "execution_count": 2,
   "id": "d5d7d8f4-e69a-4939-bdab-aa5f120a99ca",
   "metadata": {},
   "outputs": [],
   "source": [
    "import cv2 \n",
    "import os \n",
    "import numpy as np\n",
    "from pprint import pprint"
   ]
  },
  {
   "cell_type": "code",
   "execution_count": 3,
   "id": "f8356d54-9900-4bfa-b52c-cadc113a929e",
   "metadata": {},
   "outputs": [],
   "source": [
    "def calculate_entropy(image: np.ndarray) -> float:\n",
    "    \"\"\"\n",
    "    Calculate image entropy as a measure of information content.\n",
    "    \"\"\"\n",
    "    histogram = cv2.calcHist([image], [0], None, [256], [0, 256])\n",
    "    histogram = histogram.ravel() / histogram.sum()\n",
    "    histogram = histogram[histogram > 0]\n",
    "    return -np.sum(histogram * np.log2(histogram))\n",
    "\n",
    "def get_metrics(image: np.ndarray):\n",
    "    gray = cv2.cvtColor(image, cv2.COLOR_BGR2GRAY)\n",
    "    variance = np.var(gray)\n",
    "    laplacian = cv2.Laplacian(gray, cv2.CV_64F)\n",
    "    laplacian_var = np.var(laplacian)\n",
    "    mean_value = np.mean(gray)\n",
    "    entropy = calculate_entropy(gray)\n",
    "    metrics = {\n",
    "        'variance': variance,\n",
    "        'laplacian_variance': laplacian_var,\n",
    "        'mean_value': mean_value,\n",
    "        'entropy': entropy\n",
    "    }\n",
    "    return metrics"
   ]
  },
  {
   "cell_type": "code",
   "execution_count": 7,
   "id": "67c0db7e-5db9-41b0-9b56-0b368b4dc864",
   "metadata": {},
   "outputs": [
    {
     "name": "stdout",
     "output_type": "stream",
     "text": [
      "{'entropy': np.float32(6.31279),\n",
      " 'laplacian_variance': np.float64(309.9893866472843),\n",
      " 'mean_value': np.float64(154.35863492834588),\n",
      " 'variance': np.float64(857.6034674589015)}\n",
      "{'entropy': np.float32(5.412383),\n",
      " 'laplacian_variance': np.float64(1126.0274858079438),\n",
      " 'mean_value': np.float64(52.03460837887067),\n",
      " 'variance': np.float64(305.1554507118423)}\n"
     ]
    }
   ],
   "source": [
    "good = cv2.imread(\"/home/hbdesk/Pictures/Selection_095.png\")\n",
    "bad = cv2.imread(\"/home/hbdesk/pubg_parser/extract_names/names/name_05b249cd396c4dedbb64aadee45f0e42.png\")\n",
    "g_metrics = get_metrics(good)\n",
    "b_metrics = get_metrics(bad)\n",
    "pprint(g_metrics)\n",
    "pprint(b_metrics)"
   ]
  },
  {
   "cell_type": "code",
   "execution_count": null,
   "id": "c595ad13-0a1f-4b14-9ec1-0d4a8fbc607b",
   "metadata": {},
   "outputs": [],
   "source": []
  }
 ],
 "metadata": {
  "kernelspec": {
   "display_name": "Python 3 (ipykernel)",
   "language": "python",
   "name": "python3"
  },
  "language_info": {
   "codemirror_mode": {
    "name": "ipython",
    "version": 3
   },
   "file_extension": ".py",
   "mimetype": "text/x-python",
   "name": "python",
   "nbconvert_exporter": "python",
   "pygments_lexer": "ipython3",
   "version": "3.11.9"
  }
 },
 "nbformat": 4,
 "nbformat_minor": 5
}
