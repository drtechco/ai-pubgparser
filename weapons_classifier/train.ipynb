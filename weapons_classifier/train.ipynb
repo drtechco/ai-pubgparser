{
 "cells": [
  {
   "cell_type": "code",
   "execution_count": 5,
   "id": "dbd4eedd-a3df-45a5-acbf-b4c756c7a763",
   "metadata": {},
   "outputs": [],
   "source": [
    "import torch\n",
    "import torch.nn as nn\n",
    "import torch.optim as optim\n",
    "from torch.utils.data import DataLoader\n",
    "from torchvision import datasets, models, transforms\n",
    "import matplotlib.pyplot as plt\n",
    "import numpy as np\n",
    "%matplotlib inline"
   ]
  },
  {
   "cell_type": "code",
   "execution_count": 6,
   "id": "6937891b-062b-43e9-a350-24a51beeabc9",
   "metadata": {},
   "outputs": [],
   "source": [
    "def preview_dataset(dataset, num_images=8):\n",
    "    \"\"\"\n",
    "    Displays a grid of images with their class labels.\n",
    "\n",
    "    Args:\n",
    "    - dataset: The dataset to preview, e.g., train_dataset.\n",
    "    - num_images: Number of images to display (default is 8).\n",
    "    \"\"\"\n",
    "    loader = DataLoader(dataset, batch_size=num_images, shuffle=True)\n",
    "    data_iter = iter(loader)\n",
    "    images, labels = next(data_iter)\n",
    "    images = images * torch.tensor([0.229, 0.224, 0.225]).view(3, 1, 1)\n",
    "    images = images + torch.tensor([0.485, 0.456, 0.406]).view(3, 1, 1)\n",
    "    images = torch.clamp(images, 0, 1)\n",
    "\n",
    "    # Plot images in a grid\n",
    "    plt.figure(figsize=(12, 6))\n",
    "    for i in range(num_images):\n",
    "        ax = plt.subplot(2, num_images // 2, i + 1)\n",
    "        np_img = images[i].numpy().transpose((1, 2, 0))  # Convert from Tensor to NumPy array\n",
    "        plt.imshow(np_img)\n",
    "        plt.title(dataset.classes[labels[i].item()])\n",
    "        plt.axis(\"off\")\n",
    "    plt.show()"
   ]
  },
  {
   "cell_type": "code",
   "execution_count": 7,
   "id": "af9dc622-e6ca-41bc-919e-f142cbbee3cc",
   "metadata": {},
   "outputs": [],
   "source": [
    "num_epochs = 10\n",
    "batch_size = 32\n",
    "learning_rate = 0.001\n",
    "device = torch.device(\"cuda\" if torch.cuda.is_available() else \"cpu\")"
   ]
  },
  {
   "cell_type": "code",
   "execution_count": 8,
   "id": "4bbbb151-72bf-4996-8a72-7b98878cc7da",
   "metadata": {},
   "outputs": [],
   "source": [
    "transform = transforms.Compose([\n",
    "    transforms.Resize((224, 224)),  # ResNet standard input size\n",
    "    transforms.ToTensor(),\n",
    "    transforms.Normalize(mean=[0.485, 0.456, 0.406], std=[0.229, 0.224, 0.225]),  # ImageNet stats\n",
    "])"
   ]
  },
  {
   "cell_type": "code",
   "execution_count": 10,
   "id": "fe64c97a-c6b7-43d1-9c43-9e7f789e2018",
   "metadata": {},
   "outputs": [],
   "source": [
    "train_dataset = datasets.ImageFolder(root=\"/home/hbdesk/labelstudio_convert/weapon_img/\", transform=transform)\n",
    "train_loader = DataLoader(train_dataset, batch_size=batch_size, shuffle=True)"
   ]
  },
  {
   "cell_type": "code",
   "execution_count": 15,
   "id": "e7f9f43a-80eb-496d-8245-dba129521f8a",
   "metadata": {
    "scrolled": true
   },
   "outputs": [
    {
     "name": "stdout",
     "output_type": "stream",
     "text": [
      "['ACE32', 'AKM', 'AUG_A3', 'AWM', 'BERYL_M762', 'DBS', 'DRAGUNOV', 'FIST', 'FRAG_NADE', 'G36C', 'GROZA', 'K98K', 'LYNX_AMR', 'M16A4', 'M24', 'M249', 'M416', 'MICRO_UZI', 'MINI_14', 'MK12', 'MK14_EBR', 'MK47_MUTANT', 'MOLOTOV', 'MOSIN_NAGANT', 'MP5K', 'P90', 'PANZERFAUST', 'PP_19', 'QBU', 'QBZ95', 'S12K', 'S1897', 'S686', 'SAWED_OFF', 'SCAR_L', 'SKS', 'SLR', 'TOMMY', 'UMP45', 'VECTOR', 'VSS_VINTOREZ']\n"
     ]
    }
   ],
   "source": [
    "print(train_dataset.classes)"
   ]
  },
  {
   "cell_type": "code",
   "execution_count": null,
   "id": "0fcee021-998d-4c49-b46a-8ddb2464f7fe",
   "metadata": {},
   "outputs": [],
   "source": [
    "with open('./weapons_list.txt', 'w') as file:\n",
    "    file.write('\\n'.join(train_dataset.classes))"
   ]
  },
  {
   "cell_type": "code",
   "execution_count": 11,
   "id": "5cf4edf4-73ac-48b1-b3a4-5dc0732bdf2c",
   "metadata": {},
   "outputs": [
    {
     "name": "stderr",
     "output_type": "stream",
     "text": [
      "/home/hbdesk/pubg_parser/weapons_classifier/venv/lib/python3.12/site-packages/torchvision/models/_utils.py:208: UserWarning: The parameter 'pretrained' is deprecated since 0.13 and may be removed in the future, please use 'weights' instead.\n",
      "  warnings.warn(\n",
      "/home/hbdesk/pubg_parser/weapons_classifier/venv/lib/python3.12/site-packages/torchvision/models/_utils.py:223: UserWarning: Arguments other than a weight enum or `None` for 'weights' are deprecated since 0.13 and may be removed in the future. The current behavior is equivalent to passing `weights=ResNet34_Weights.IMAGENET1K_V1`. You can also use `weights=ResNet34_Weights.DEFAULT` to get the most up-to-date weights.\n",
      "  warnings.warn(msg)\n",
      "Downloading: \"https://download.pytorch.org/models/resnet34-b627a593.pth\" to /home/hbdesk/.cache/torch/hub/checkpoints/resnet34-b627a593.pth\n",
      "100.0%\n"
     ]
    }
   ],
   "source": [
    "model = models.resnet34(pretrained=True)\n",
    "num_classes = len(train_dataset.classes)  # automatically detect number of classes\n",
    "model.fc = nn.Linear(model.fc.in_features, num_classes)  # Adjust final layer\n",
    "model = model.to(device)\n",
    "\n",
    "criterion = nn.CrossEntropyLoss()\n",
    "optimizer = optim.Adam(model.parameters(), lr=learning_rate)\n"
   ]
  },
  {
   "cell_type": "code",
   "execution_count": 12,
   "id": "50a7e032-d6c6-49e4-8070-c0cb75c53b3c",
   "metadata": {},
   "outputs": [
    {
     "name": "stdout",
     "output_type": "stream",
     "text": [
      "Epoch [1/10], Loss: 0.6918\n",
      "Epoch [2/10], Loss: 0.2037\n",
      "Epoch [3/10], Loss: 0.1452\n",
      "Epoch [4/10], Loss: 0.1078\n",
      "Epoch [5/10], Loss: 0.0750\n",
      "Epoch [6/10], Loss: 0.0596\n",
      "Epoch [7/10], Loss: 0.0618\n",
      "Epoch [8/10], Loss: 0.0837\n",
      "Epoch [9/10], Loss: 0.0933\n",
      "Epoch [10/10], Loss: 0.0689\n",
      "Training complete. Model saved.\n"
     ]
    }
   ],
   "source": [
    "for epoch in range(num_epochs):\n",
    "    model.train()\n",
    "    running_loss = 0.0\n",
    "\n",
    "    for images, labels in train_loader:\n",
    "        images, labels = images.to(device), labels.to(device)\n",
    "\n",
    "        # Forward pass\n",
    "        outputs = model(images)\n",
    "        loss = criterion(outputs, labels)\n",
    "\n",
    "        # Backward pass and optimization\n",
    "        optimizer.zero_grad()\n",
    "        loss.backward()\n",
    "        optimizer.step()\n",
    "\n",
    "        running_loss += loss.item() * images.size(0)\n",
    "\n",
    "    # Calculate and print average loss for the epoch\n",
    "    epoch_loss = running_loss / len(train_loader.dataset)\n",
    "    print(f\"Epoch [{epoch+1}/{num_epochs}], Loss: {epoch_loss:.4f}\")\n",
    "\n",
    "# Save the model checkpoint\n",
    "torch.save(model.state_dict(), \"weapon_classifier.pth\")\n",
    "print(\"Training complete. Model saved.\")"
   ]
  },
  {
   "cell_type": "code",
   "execution_count": 14,
   "id": "16042e83-a624-45ff-88e6-16062b7e0930",
   "metadata": {},
   "outputs": [
    {
     "data": {
      "image/png": "[encoded data removed]",
      "text/plain": [
       "<Figure size 640x480 with 1 Axes>"
      ]
     },
     "metadata": {},
     "output_type": "display_data"
    },
    {
     "name": "stdout",
     "output_type": "stream",
     "text": [
      "Predicted class: MP5K\n"
     ]
    }
   ],
   "source": [
    "from PIL import Image\n",
    "import torch\n",
    "from torchvision import transforms\n",
    "\n",
    "# Define the image preprocessing transform\n",
    "preprocess = transforms.Compose([\n",
    "    transforms.Resize((224, 224)),\n",
    "    transforms.ToTensor(),\n",
    "    transforms.Normalize(mean=[0.485, 0.456, 0.406], std=[0.229, 0.224, 0.225]),\n",
    "])\n",
    "\n",
    "# Function to load the trained model\n",
    "def load_model(model_path, num_classes):\n",
    "    model = models.resnet34(pretrained=False)\n",
    "    model.fc = nn.Linear(model.fc.in_features, num_classes)\n",
    "    model.load_state_dict(torch.load(model_path, map_location=\"cpu\"))\n",
    "    model.eval()  # Set model to evaluation mode\n",
    "    return model\n",
    "\n",
    "# Inference function\n",
    "def predict(image_path, model, class_names):\n",
    "    \"\"\"\n",
    "    Perform inference on a single image.\n",
    "\n",
    "    Args:\n",
    "    - image_path (str): Path to the input image.\n",
    "    - model (torch.nn.Module): Trained PyTorch model.\n",
    "    - class_names (list of str): List of class names.\n",
    "\n",
    "    Returns:\n",
    "    - str: Predicted class name.\n",
    "    \"\"\"\n",
    "    # Load and preprocess the image\n",
    "    image = Image.open(image_path).convert(\"RGB\")\n",
    "    input_tensor = preprocess(image)\n",
    "    # print(type(input_tensor))\n",
    "    plt.imshow(input_tensor.view(-1, 224).cpu().numpy())\n",
    "    plt.show()\n",
    "    input_batch = input_tensor.unsqueeze(0)  # Create a mini-batch as expected by the model\n",
    "\n",
    "    # Move the input to the same device as the model\n",
    "    device = torch.device(\"cuda\" if torch.cuda.is_available() else \"cpu\")\n",
    "    input_batch = input_batch.to(device)\n",
    "    model = model.to(device)\n",
    "\n",
    "    # Perform inference\n",
    "    with torch.no_grad():\n",
    "        output = model(input_batch)\n",
    "        _, predicted_idx = torch.max(output, 1)\n",
    "\n",
    "    # Get the class label\n",
    "    predicted_class = class_names[predicted_idx.item()]\n",
    "    return predicted_class\n",
    "\n",
    "# Load the model and class names\n",
    "model_path = \"./weapon_classifier.pth\"\n",
    "class_names = train_dataset.classes\n",
    "model = load_model(model_path, num_classes=len(class_names))\n",
    "\n",
    "# Perform inference on an example image\n",
    "image_path = \"/home/hbdesk/Pictures/Selection_123.png\"  # Replace with your image path\n",
    "predicted_class = predict(image_path, model, class_names)\n",
    "print(f\"Predicted class: {predicted_class}\")"
   ]
  }
 ],
 "metadata": {
  "kernelspec": {
   "display_name": "Python 3 (ipykernel)",
   "language": "python",
   "name": "python3"
  },
  "language_info": {
   "codemirror_mode": {
    "name": "ipython",
    "version": 3
   },
   "file_extension": ".py",
   "mimetype": "text/x-python",
   "name": "python",
   "nbconvert_exporter": "python",
   "pygments_lexer": "ipython3",
   "version": "3.12.4"
  }
 },
 "nbformat": 4,
 "nbformat_minor": 5
}
