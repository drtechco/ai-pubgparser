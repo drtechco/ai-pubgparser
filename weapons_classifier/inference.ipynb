{
 "cells": [
  {
   "cell_type": "code",
   "execution_count": 3,
   "id": "d1b7a626-503b-4a57-87c3-939a571c04db",
   "metadata": {},
   "outputs": [
    {
     "ename": "TypeError",
     "evalue": "object of type 'int' has no len()",
     "output_type": "error",
     "traceback": [
      "\u001b[0;31m---------------------------------------------------------------------------\u001b[0m",
      "\u001b[0;31mTypeError\u001b[0m                                 Traceback (most recent call last)",
      "Cell \u001b[0;32mIn[3], line 55\u001b[0m\n\u001b[1;32m     53\u001b[0m model_path \u001b[38;5;241m=\u001b[39m \u001b[38;5;124m\"\u001b[39m\u001b[38;5;124m./weapon_classifier.pth\u001b[39m\u001b[38;5;124m\"\u001b[39m\n\u001b[1;32m     54\u001b[0m class_names \u001b[38;5;241m=\u001b[39m \u001b[38;5;241m41\u001b[39m\n\u001b[0;32m---> 55\u001b[0m model \u001b[38;5;241m=\u001b[39m load_model(model_path, num_classes\u001b[38;5;241m=\u001b[39m\u001b[38;5;28;43mlen\u001b[39;49m\u001b[43m(\u001b[49m\u001b[43mclass_names\u001b[49m\u001b[43m)\u001b[49m)\n\u001b[1;32m     57\u001b[0m \u001b[38;5;66;03m# Perform inference on an example image\u001b[39;00m\n\u001b[1;32m     58\u001b[0m image_path \u001b[38;5;241m=\u001b[39m \u001b[38;5;124m\"\u001b[39m\u001b[38;5;124m/home/hb/labelstudio_convert/weapon_img/MK12/3a6d949b-20fb1ad7dc0a47869a741c09c6c07301.png\u001b[39m\u001b[38;5;124m\"\u001b[39m  \u001b[38;5;66;03m# Replace with your image path\u001b[39;00m\n",
      "\u001b[0;31mTypeError\u001b[0m: object of type 'int' has no len()"
     ]
    }
   ],
   "source": [
    "from PIL import Image\n",
    "import torch\n",
    "from torchvision import transforms\n",
    "\n",
    "# Define the image preprocessing transform\n",
    "preprocess = transforms.Compose([\n",
    "    transforms.Resize((224, 224)),\n",
    "    transforms.ToTensor(),\n",
    "    transforms.Normalize(mean=[0.485, 0.456, 0.406], std=[0.229, 0.224, 0.225]),\n",
    "])\n",
    "\n",
    "# Function to load the trained model\n",
    "def load_model(model_path, num_classes):\n",
    "    model = models.resnet18(pretrained=False)\n",
    "    model.fc = nn.Linear(model.fc.in_features, num_classes)\n",
    "    model.load_state_dict(torch.load(model_path, map_location=\"cpu\"))\n",
    "    model.eval()  # Set model to evaluation mode\n",
    "    return model\n",
    "\n",
    "# Inference function\n",
    "def predict(image_path, model, class_names):\n",
    "    \"\"\"\n",
    "    Perform inference on a single image.\n",
    "\n",
    "    Args:\n",
    "    - image_path (str): Path to the input image.\n",
    "    - model (torch.nn.Module): Trained PyTorch model.\n",
    "    - class_names (list of str): List of class names.\n",
    "\n",
    "    Returns:\n",
    "    - str: Predicted class name.\n",
    "    \"\"\"\n",
    "    # Load and preprocess the image\n",
    "    image = Image.open(image_path).convert(\"RGB\")\n",
    "    input_tensor = preprocess(image)\n",
    "    input_batch = input_tensor.unsqueeze(0)  # Create a mini-batch as expected by the model\n",
    "\n",
    "    # Move the input to the same device as the model\n",
    "    device = torch.device(\"cuda\" if torch.cuda.is_available() else \"cpu\")\n",
    "    input_batch = input_batch.to(device)\n",
    "    model = model.to(device)\n",
    "\n",
    "    # Perform inference\n",
    "    with torch.no_grad():\n",
    "        output = model(input_batch)\n",
    "        _, predicted_idx = torch.max(output, 1)\n",
    "\n",
    "    # Get the class label\n",
    "    predicted_class = class_names[predicted_idx.item()]\n",
    "    return predicted_class\n",
    "\n",
    "# Load the model and class names\n",
    "model_path = \"./weapon_classifier.pth\"\n",
    "class_names = train_dataset.classes\n",
    "model = load_model(model_path, num_classes=len(class_names))\n",
    "\n",
    "# Perform inference on an example image\n",
    "image_path = \"/home/hb/labelstudio_convert/weapon_img/MK12/3a6d949b-20fb1ad7dc0a47869a741c09c6c07301.png\"  # Replace with your image path\n",
    "predicted_class = predict(image_path, model, class_names)\n",
    "print(f\"Predicted class: {predicted_class}\")"
   ]
  }
 ],
 "metadata": {
  "kernelspec": {
   "display_name": "Python 3 (ipykernel)",
   "language": "python",
   "name": "python3"
  },
  "language_info": {
   "codemirror_mode": {
    "name": "ipython",
    "version": 3
   },
   "file_extension": ".py",
   "mimetype": "text/x-python",
   "name": "python",
   "nbconvert_exporter": "python",
   "pygments_lexer": "ipython3",
   "version": "3.12.4"
  }
 },
 "nbformat": 4,
 "nbformat_minor": 5
}
